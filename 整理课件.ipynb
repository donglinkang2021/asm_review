{
 "cells": [
  {
   "cell_type": "code",
   "execution_count": 1,
   "metadata": {},
   "outputs": [],
   "source": [
    "import os"
   ]
  },
  {
   "cell_type": "code",
   "execution_count": 2,
   "metadata": {},
   "outputs": [],
   "source": [
    "cource_dir = \"course\""
   ]
  },
  {
   "cell_type": "code",
   "execution_count": 3,
   "metadata": {},
   "outputs": [],
   "source": [
    "notes_dir = \"notes\""
   ]
  },
  {
   "cell_type": "code",
   "execution_count": 4,
   "metadata": {},
   "outputs": [
    {
     "name": "stdout",
     "output_type": "stream",
     "text": [
      "01 微型计算机硬件系统\n",
      "07 总线技术\n",
      "03 指令系统\n",
      "09 中断技术\n",
      "02 微处理器管理模式\n",
      "05 子程序设计\n",
      "08 接口技术\n",
      "06 存储系统与技术\n",
      "04 汇编语言程序开发\n"
     ]
    }
   ],
   "source": [
    "map_dict = {\n",
    "    \"一\": \"01\",\n",
    "    \"二\": \"02\",\n",
    "    \"三\": \"03\",\n",
    "    \"四\": \"04\",\n",
    "    \"五\": \"05\",\n",
    "    \"六\": \"06\",\n",
    "    \"七\": \"07\",\n",
    "    \"八\": \"08\",\n",
    "    \"九\": \"09\"\n",
    "}\n",
    "dir_list = []\n",
    "for file_name in os.listdir(cource_dir):\n",
    "    # 去掉后缀.pdf\n",
    "    file_name = file_name.strip(\".pdf\")\n",
    "    chapter, chapter_name = file_name.split(\"-\")\n",
    "    \n",
    "    # 将 \"第一章\" 转换为 \"第01章\"\n",
    "    chapter = chapter.replace(\"第\", \"\").replace(\"章\", \"\")\n",
    "    chapter = map_dict[chapter]\n",
    "    # 生成目录\n",
    "    print(chapter, chapter_name)\n",
    "    dir_list.append(f\"{chapter}-{chapter_name}\")"
   ]
  },
  {
   "cell_type": "code",
   "execution_count": 6,
   "metadata": {},
   "outputs": [],
   "source": [
    "dir_list.sort()"
   ]
  },
  {
   "cell_type": "code",
   "execution_count": 7,
   "metadata": {},
   "outputs": [
    {
     "data": {
      "text/plain": [
       "['01-微型计算机硬件系统',\n",
       " '02-微处理器管理模式',\n",
       " '03-指令系统',\n",
       " '04-汇编语言程序开发',\n",
       " '05-子程序设计',\n",
       " '06-存储系统与技术',\n",
       " '07-总线技术',\n",
       " '08-接口技术',\n",
       " '09-中断技术']"
      ]
     },
     "execution_count": 7,
     "metadata": {},
     "output_type": "execute_result"
    }
   ],
   "source": [
    "dir_list"
   ]
  },
  {
   "cell_type": "code",
   "execution_count": 8,
   "metadata": {},
   "outputs": [],
   "source": [
    "for dir_name in dir_list:\n",
    "    os.mkdir(os.path.join(notes_dir, dir_name))"
   ]
  }
 ],
 "metadata": {
  "kernelspec": {
   "display_name": "d2l",
   "language": "python",
   "name": "python3"
  },
  "language_info": {
   "codemirror_mode": {
    "name": "ipython",
    "version": 3
   },
   "file_extension": ".py",
   "mimetype": "text/x-python",
   "name": "python",
   "nbconvert_exporter": "python",
   "pygments_lexer": "ipython3",
   "version": "3.9.18"
  }
 },
 "nbformat": 4,
 "nbformat_minor": 2
}
